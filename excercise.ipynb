{
 "cells": [
  {
   "cell_type": "markdown",
   "id": "7cb5bbfa-ecf2-4dd7-8bd3-fc15582f5aea",
   "metadata": {},
   "source": [
    "# Data Analysis: large variances in a trait of your choice correspond to variation of an environmental covariate (trees)\n",
    "Day 4 - Workshop session for the NDFI4Biodiversity Seasonal School 2024 by Maria Judith Carmona H."
   ]
  },
  {
   "cell_type": "code",
   "execution_count": null,
   "id": "f378e86a-0ab1-4bb7-8d21-46b802098c92",
   "metadata": {},
   "outputs": [],
   "source": [
    "# Excercise:\n"
   ]
  },
  {
   "cell_type": "code",
   "execution_count": null,
   "id": "ec9c2ec3-1efa-4e2d-b913-694405793538",
   "metadata": {},
   "outputs": [],
   "source": [
    "# For the time being we add some dummy covariates to the gbif data, that will\n",
    "# be replaced with real data later. \n",
    "\n",
    "gbif$temp_1 <- runif(nrow(gbif1), -3, 30)\n",
    "gbif$rainfall_1 <- runif(nrow(gbif1), 50, 1200)\n",
    "\n",
    "# .. 4. Join occurrence and traits ---------------------------------------------\n",
    "# Which traits are available?\n",
    "trydb$TraitName |> unique() \n",
    "\n",
    "# Let's see the distribution of traits per tree species\n",
    "count(trydb, SpeciesName, TraitName) |> arrange(-n)\n",
    "\n",
    "# Lets pick \"plant height vegetative\"\n",
    "try_height <- trydb |> filter(TraitName == \"Plant height vegetative\") |> \n",
    "  group_by(SpeciesName) |> \n",
    "  summarise(var_height = sd(StdValue, na.rm = TRUE), n = n())\n",
    "\n",
    "\n",
    "# Summarize environmentla covariate\n",
    "gbif_temp <- gbif |> group_by(species) |> \n",
    "  summarize(var_temp = var(temp_1, na.rm = TRUE))\n",
    "\n",
    "dat <- left_join(gbif_temp, try_height, by = c(\"species\" = \"SpeciesName\"))\n",
    "\n",
    "# .. 5. Create plots -----------------------------------------------------------\n",
    "ggplot(dat, aes(var_temp, var_height)) + geom_point()\n"
   ]
  },
  {
   "cell_type": "code",
   "execution_count": null,
   "id": "9b4533fe-96b4-4614-bcc6-21902939f91c",
   "metadata": {},
   "outputs": [],
   "source": [
    "# Load packages\n",
    "library(\"tydiverse\")"
   ]
  },
  {
   "cell_type": "code",
   "execution_count": null,
   "id": "4bb47126-5d4f-4d64-9262-2a38e50ef616",
   "metadata": {},
   "outputs": [],
   "source": [
    "# Load data\n",
    "trydb <- read_csv(\"try_reduced.csv\")\n",
    "gbif <- read_csv(\"gbif1.csv\")"
   ]
  }
 ],
 "metadata": {
  "kernelspec": {
   "display_name": "R",
   "language": "R",
   "name": "ir"
  },
  "language_info": {
   "codemirror_mode": "r",
   "file_extension": ".r",
   "mimetype": "text/x-r-source",
   "name": "R",
   "pygments_lexer": "r",
   "version": "4.1.2"
  }
 },
 "nbformat": 4,
 "nbformat_minor": 5
}
